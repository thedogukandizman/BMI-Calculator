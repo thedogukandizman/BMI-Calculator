{
 "cells": [
  {
   "cell_type": "code",
   "execution_count": 20,
   "id": "c3128b4f-0bd7-4369-a62d-0a4310ea48bc",
   "metadata": {},
   "outputs": [],
   "source": []
  },
  {
   "cell_type": "code",
   "execution_count": 2,
   "id": "1da49d59-19a5-41c6-9f6c-3de14b827f4f",
   "metadata": {},
   "outputs": [],
   "source": [
    "import tkinter as tk\n",
    "from tkinter import messagebox\n",
    "\n",
    "def calculate_bmi():\n",
    "    try:\n",
    "        name = name_entry.get()\n",
    "        weight = float(weight_entry.get())\n",
    "        height = float(height_entry.get())\n",
    "        \n",
    "        # BMI calculation\n",
    "        bmi = (weight * 703) / (height * height)\n",
    "        result_text = f\"Your BMI is: {bmi:.2f}\\n\"\n",
    "        \n",
    "        # BMI Category\n",
    "        if bmi < 18.5:\n",
    "            result_text += f\"{name}, You are underweight.\"\n",
    "        elif bmi <= 24.9:\n",
    "            result_text += f\"{name}, You are normal weight.\"\n",
    "        elif bmi < 29.9:\n",
    "            result_text += f\"{name}, You are overweight. Need to exercise more.\"\n",
    "        elif bmi < 34.9:\n",
    "            result_text += f\"{name}, You are obese.\"\n",
    "        elif bmi < 39.9:\n",
    "            result_text += f\"{name}, You are severely obese.\"\n",
    "        else:\n",
    "            result_text += f\"{name}, You are morbidly obese.\"\n",
    "        \n",
    "        # Display result\n",
    "        messagebox.showinfo(\"BMI Result\", result_text)\n",
    "    except ValueError:\n",
    "        messagebox.showerror(\"Invalid Input\", \"Please enter valid numerical values for weight and height.\")\n",
    "\n",
    "# Create main window\n",
    "root = tk.Tk()\n",
    "root.title(\"BMI Calculator\")\n",
    "\n",
    "# Labels and entry fields\n",
    "tk.Label(root, text=\"Enter Your Name:\").grid(row=0, column=0, pady=5, padx=5)\n",
    "name_entry = tk.Entry(root)\n",
    "name_entry.grid(row=0, column=1, pady=5, padx=5)\n",
    "\n",
    "tk.Label(root, text=\"Enter Your Weight (lbs):\").grid(row=1, column=0, pady=5, padx=5)\n",
    "weight_entry = tk.Entry(root)\n",
    "weight_entry.grid(row=1, column=1, pady=5, padx=5)\n",
    "\n",
    "tk.Label(root, text=\"Enter Your Height (inches):\").grid(row=2, column=0, pady=5, padx=5)\n",
    "height_entry = tk.Entry(root)\n",
    "height_entry.grid(row=2, column=1, pady=5, padx=5)\n",
    "\n",
    "# Calculate button\n",
    "calculate_button = tk.Button(root, text=\"Calculate BMI\", command=calculate_bmi)\n",
    "calculate_button.grid(row=3, column=0, columnspan=2, pady=10)\n",
    "\n",
    "# Run the application\n",
    "root.mainloop()\n"
   ]
  },
  {
   "cell_type": "code",
   "execution_count": null,
   "id": "3e149038-f081-490d-8a93-2ee9450e30b2",
   "metadata": {},
   "outputs": [],
   "source": []
  },
  {
   "cell_type": "code",
   "execution_count": null,
   "id": "87fdc86e-1c47-470a-90a8-c3442d306dfa",
   "metadata": {},
   "outputs": [],
   "source": []
  }
 ],
 "metadata": {
  "kernelspec": {
   "display_name": "Python 3 (ipykernel)",
   "language": "python",
   "name": "python3"
  },
  "language_info": {
   "codemirror_mode": {
    "name": "ipython",
    "version": 3
   },
   "file_extension": ".py",
   "mimetype": "text/x-python",
   "name": "python",
   "nbconvert_exporter": "python",
   "pygments_lexer": "ipython3",
   "version": "3.13.0"
  }
 },
 "nbformat": 4,
 "nbformat_minor": 5
}
